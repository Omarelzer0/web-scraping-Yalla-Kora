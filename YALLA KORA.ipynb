{
 "cells": [
  {
   "cell_type": "markdown",
   "metadata": {},
   "source": [
    "1. ااول حاجه بنعمل ايمبورت للمكتبات الي هنستخدمه"
   ]
  },
  {
   "cell_type": "code",
   "execution_count": 4,
   "metadata": {},
   "outputs": [],
   "source": [
    "import requests\n",
    "from bs4 import BeautifulSoup\n",
    "import csv \n",
    "import pandas as pd"
   ]
  },
  {
   "cell_type": "markdown",
   "metadata": {},
   "source": [
    "#### لينك الويبسايت الي هنعمله ويب سكرابينج \n",
    "- link_website = https://www.yallakora.com/match-center/%D9%85%D8%B1%D9%83%D8%B2-%D8%A7%D9%84%D9%85%D8%A8%D8%A7%D8%B1%D9%8A%D8%A7%D8%AA?date=12/1/2024\n",
    "\n"
   ]
  },
  {
   "cell_type": "markdown",
   "metadata": {},
   "source": [
    " 2. \n",
    " هناالتاريخ الي اليوزر هيستخدمه عشان يعرف الماتشات الي عايزها \n",
    " يكتب التاريخ يظهرله الماتشات الي ف التاريخ ده ونتايجها وتوقيتها \n"
   ]
  },
  {
   "cell_type": "code",
   "execution_count": 2,
   "metadata": {},
   "outputs": [],
   "source": [
    "date = input(\"please enter the date in this format mm/dd/yyyy\")\n",
    "page = requests.get(f\"https://www.yallakora.com/match-center/%D9%85%D8%B1%D9%83%D8%B2-%D8%A7%D9%84%D9%85%D8%A8%D8%A7%D8%B1%D9%8A%D8%A7%D8%AA?date={date}\")\n",
    "\n"
   ]
  },
  {
   "cell_type": "markdown",
   "metadata": {},
   "source": [
    " 3. هنحول من كود مش مفهوم لكود اتش تي ام ال"
   ]
  },
  {
   "cell_type": "code",
   "execution_count": 5,
   "metadata": {},
   "outputs": [
    {
     "name": "stdout",
     "output_type": "stream",
     "text": [
      "File created successfully\n"
     ]
    }
   ],
   "source": [
    "def main (page):\n",
    "    # translate into html\n",
    "    src = page.content # .content ==> retreve page content in byte code\n",
    "    soup = BeautifulSoup(src,\"html.parser\" )\n",
    "   \n",
    "    match_details = []\n",
    "\n",
    "  \n",
    "    championships=soup.find_all(\"div\",{'class':'matchCard'})\n",
    "    \n",
    "    def get_match_info (championship):\n",
    "        championship_title=championship.find(\"h2\").text.strip()\n",
    "        # كده جبنا اسم البطوله \n",
    "        all_matches =championship.find(\"div\",{'class':'ul'}).find_all(\"div\",{'class':'liItem'})\n",
    "\n",
    "        for i in range(len(all_matches)):\n",
    "            # get number of round \n",
    "            no_of_round=all_matches[i].find(\"div\",{'class':'date'}).text.strip()\n",
    "            # get  teams name  \n",
    "            team_A=all_matches[i].find(\"div\",{'class':'teamA'}).text.strip() \n",
    "            team_B=all_matches[i].find(\"div\",{'class':'teamB'}).text.strip()\n",
    "            # merge teams in 1 match \n",
    "            match = f\" {team_B}  V.S  {team_A}  \" \n",
    "            # get score \n",
    "            result = all_matches[i].find(\"div\",{'class':'MResult'}).find_all(\"span\",{'class':'score'})\n",
    "            score = f\"{result[0].text.strip()} -  {result[1].text.strip()}\"\n",
    "            # get match time \n",
    "            match_time =  all_matches[i].find(\"div\",{'class':'MResult'}).find(\"span\",{'class':'time'}).text.strip()\n",
    "            # get match status \n",
    "            match_status =  all_matches[0].find(\"div\",{'class':'matchStatus'}).text.strip()\n",
    "            # add all that in match details \n",
    "            match_details.append({\"نوع البطوله\":championship_title,\n",
    "                                  \"رقم الجوله \":no_of_round,\n",
    "                                  \"الفرق\":match,\n",
    "                                  \"نتيجه المباراه \":score,\n",
    "                                  \"توقيت المباراه\":match_time,\n",
    "                                  \"حاله المباراه\":match_status})\n",
    "    for i in range(len(championships)) :\n",
    "        get_match_info(championships[i])\n",
    "    df = pd.DataFrame(match_details)\n",
    "\n",
    "    # import data into excel file\n",
    "    df.to_excel(r'D:\\ROAD TO BE DATA SCIENTIST\\WEB SCRAPING\\1st project\\matches.xlsx', index=False)\n",
    "    print(\"File created successfully\")\n",
    "\n",
    "\n",
    "  \n",
    "main(page)\n",
    "\n"
   ]
  }
 ],
 "metadata": {
  "kernelspec": {
   "display_name": "Python 3",
   "language": "python",
   "name": "python3"
  },
  "language_info": {
   "codemirror_mode": {
    "name": "ipython",
    "version": 3
   },
   "file_extension": ".py",
   "mimetype": "text/x-python",
   "name": "python",
   "nbconvert_exporter": "python",
   "pygments_lexer": "ipython3",
   "version": "3.13.0"
  }
 },
 "nbformat": 4,
 "nbformat_minor": 2
}
